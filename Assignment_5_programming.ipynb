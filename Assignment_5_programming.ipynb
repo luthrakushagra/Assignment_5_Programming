{
 "cells": [
  {
   "cell_type": "markdown",
   "id": "485eee24",
   "metadata": {},
   "source": [
    "# Assignment_5_programming"
   ]
  },
  {
   "cell_type": "markdown",
   "id": "8692a1a8",
   "metadata": {},
   "source": [
    "## Write a Python Program to Find LCM?\n",
    "\n",
    "\n",
    "\n"
   ]
  },
  {
   "cell_type": "code",
   "execution_count": 3,
   "id": "9c646eca",
   "metadata": {},
   "outputs": [
    {
     "name": "stdout",
     "output_type": "stream",
     "text": [
      "enter the first number8\n",
      "enter the second number9\n",
      "72 is the L.C.M of 8 & 9\n"
     ]
    }
   ],
   "source": [
    "x=int(input(\"enter the first number\"))\n",
    "y=int(input(\"enter the second number\"))\n",
    "maxnum=max(x,y)\n",
    "while True:\n",
    "    if maxnum%x==0 and maxnum%y==0:\n",
    "        break\n",
    "    maxnum+=1\n",
    "print(f\"{maxnum} is the L.C.M of {x} & {y}\")"
   ]
  },
  {
   "cell_type": "markdown",
   "id": "af83304a",
   "metadata": {},
   "source": [
    "## Write a Python Program to Find HCF?"
   ]
  },
  {
   "cell_type": "code",
   "execution_count": 11,
   "id": "5a04cf10",
   "metadata": {},
   "outputs": [
    {
     "name": "stdout",
     "output_type": "stream",
     "text": [
      "enter the first number4\n",
      "enter the second number28\n",
      "4 is the HCF\n"
     ]
    }
   ],
   "source": [
    "x=int(input(\"enter the first number\"))\n",
    "y=int(input(\"enter the second number\"))\n",
    "minnum=min(x,y)\n",
    "for i in range (1,minnum+1):\n",
    "    if x%i==0 and y%i==0:\n",
    "        hcf=i\n",
    "print(f\"{hcf} is the HCF\")"
   ]
  },
  {
   "cell_type": "markdown",
   "id": "bd2920ca",
   "metadata": {},
   "source": [
    "## Write a Python Program to Convert Decimal to Binary, Octal and Hexadecimal?"
   ]
  },
  {
   "cell_type": "code",
   "execution_count": 20,
   "id": "1fbe6aa2",
   "metadata": {},
   "outputs": [
    {
     "name": "stdout",
     "output_type": "stream",
     "text": [
      "enter the number25\n",
      "The number in binary is 0b11001\n",
      "The number in octal is 0o31\n",
      "The number in hexadecimal is 0x19\n"
     ]
    }
   ],
   "source": [
    "x=int(input(\"enter the number\"))\n",
    "a=bin(x)\n",
    "b=oct(x)\n",
    "c=hex(x)\n",
    "print(f\"The number in binary is {a}\")\n",
    "print(f\"The number in octal is {b}\")\n",
    "print(f\"The number in hexadecimal is {c}\")"
   ]
  },
  {
   "cell_type": "markdown",
   "id": "0212f0da",
   "metadata": {},
   "source": [
    "##  Write a Python Program To Find ASCII value of a character?"
   ]
  },
  {
   "cell_type": "code",
   "execution_count": 24,
   "id": "35b6b606",
   "metadata": {},
   "outputs": [
    {
     "name": "stdout",
     "output_type": "stream",
     "text": [
      "enter the number#\n",
      "ASCII value is 35\n"
     ]
    }
   ],
   "source": [
    "x=input(\"enter the number\")\n",
    "if len(x)>1:\n",
    "    print(\"please enter a single character\")\n",
    "else:\n",
    "    print(f\"ASCII value is {ord(x)}\")"
   ]
  },
  {
   "cell_type": "markdown",
   "id": "80975dcc",
   "metadata": {},
   "source": [
    "## Write a Python Program to Make a Simple Calculator with 4 basic mathematical operations?"
   ]
  },
  {
   "cell_type": "code",
   "execution_count": 1,
   "id": "358d62a2",
   "metadata": {},
   "outputs": [
    {
     "name": "stdout",
     "output_type": "stream",
     "text": [
      "Select an Arithmetic operation:\n",
      " 1.Addition(+)\n",
      " 2.Subtraction(-)\n",
      " 3. Multiplication (*)\n",
      " 4. Division(/) \n",
      " 5. Stop (0)\n",
      "enter the arithmetic operation+\n",
      "Enter the first number6\n",
      "Enter the Second number3\n",
      "6+3=9\n",
      "\n",
      "enter the arithmetic operationa\n",
      "please enter valid operator\n",
      "enter the arithmetic operationda\n",
      "please enter valid operator\n",
      "enter the arithmetic operation0\n",
      "Calculator stopped successfully\n"
     ]
    }
   ],
   "source": [
    "import operator\n",
    "ops={'+':operator.add, '-':operator.sub, '*':operator.mul,'/':operator.truediv}\n",
    "print(\"Select an Arithmetic operation:\\\n",
    "\\n 1.Addition(+)\\\n",
    "\\n 2.Subtraction(-)\\\n",
    "\\n 3. Multiplication (*)\\\n",
    "\\n 4. Division(/) \\\n",
    "\\n 5. Stop (0)\")\n",
    "\n",
    "while True:\n",
    "    operator=input(\"enter the arithmetic operation\")\n",
    "    if operator=='0':\n",
    "        print(\"Calculator stopped successfully\")\n",
    "        break\n",
    "    elif operator not in ['+','-','/','*']:\n",
    "        print(\"please enter valid operator\")\n",
    "    else:\n",
    "        num_1=int(input(\"Enter the first number\"))\n",
    "        num_2=int(input(\"Enter the Second number\"))\n",
    "        print(f'{num_1}{operator}{num_2}={ops[operator](num_1,num_2)}\\n')\n",
    "\n",
    "    "
   ]
  },
  {
   "cell_type": "code",
   "execution_count": null,
   "id": "10347798",
   "metadata": {},
   "outputs": [],
   "source": []
  }
 ],
 "metadata": {
  "kernelspec": {
   "display_name": "Python 3 (ipykernel)",
   "language": "python",
   "name": "python3"
  },
  "language_info": {
   "codemirror_mode": {
    "name": "ipython",
    "version": 3
   },
   "file_extension": ".py",
   "mimetype": "text/x-python",
   "name": "python",
   "nbconvert_exporter": "python",
   "pygments_lexer": "ipython3",
   "version": "3.9.12"
  }
 },
 "nbformat": 4,
 "nbformat_minor": 5
}
